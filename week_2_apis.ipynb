{
  "nbformat": 4,
  "nbformat_minor": 0,
  "metadata": {
    "kernelspec": {
      "display_name": "Python 3",
      "language": "python",
      "name": "python3"
    },
    "language_info": {
      "codemirror_mode": {
        "name": "ipython",
        "version": 3
      },
      "file_extension": ".py",
      "mimetype": "text/x-python",
      "name": "python",
      "nbconvert_exporter": "python",
      "pygments_lexer": "ipython3",
      "version": "3.5.3"
    },
    "colab": {
      "name": "week_2_apis.ipynb",
      "provenance": [],
      "collapsed_sections": [],
      "toc_visible": true,
      "include_colab_link": true
    }
  },
  "cells": [
    {
      "cell_type": "markdown",
      "metadata": {
        "id": "view-in-github",
        "colab_type": "text"
      },
      "source": [
        "<a href=\"https://colab.research.google.com/github/cderose/dh-courses/blob/master/week_2_apis.ipynb\" target=\"_parent\"><img src=\"https://colab.research.google.com/assets/colab-badge.svg\" alt=\"Open In Colab\"/></a>"
      ]
    },
    {
      "cell_type": "markdown",
      "metadata": {
        "id": "38VBOxs_FhMp"
      },
      "source": [
        "# Step 0: Save a copy of this notebook to your Google Drive\n",
        "\n",
        "Before proceeding with the notebook below, please make sure you click \"File\" then click \"Save a copy in drive\". Doing so will make sure your work gets saved in your personal Google Drive account!\n",
        "\n",
        "To make sure you've successfully created a copy of this notebook, please click \"File\" in the upper navigation bar, then click \"Save\". Once you see a little notification that your work has been saved successfully, you're ready to proceed!\n",
        "\n",
        "# Getting Started with Application Programming Interfaces (APIs)\n",
        "\n",
        "APIs make it easy to collect data for text mining and machine learning projects. In this workshop, we'll learn how to collect data from APIs, query APIs to filter the data we fetch, and process the data that APIs return to extract information of interest. Let's get started!\n",
        "\n",
        "## What is an API?\n",
        "\n",
        "Every API is an interface to a database. When we interact with the API, we fetch data from the database. This series of relationships could be visualized as follows:\n",
        "\n",
        "<div style='text-align: center'><img src='https://github.com/YaleDHLab/lab-workshops/raw/master/apis/assets/api-schematic.png'><a href='https://medium.com/swlh/building-a-restful-api-with-rails-4b98dc76bf9c'>Image by Hector Polanco</a></div>\n",
        "\n",
        "As this illustration indicates, a user tells an API what kind of data they would like, then the API fetches that data from a database and sends it to the user. Let's see this in action in our first example below.\n",
        "\n",
        "## Solving Crossword Puzzles with the DataMuse API\n",
        "\n",
        "For our first example, let's consider the DataMuse API. This API allows us to interact with a database that contains information about words. Using the DataMuse API, we can find words with certain constraints. Suppose for example we are completing the puzzle below and wish to find words that would fit into <i>2 Down</i>:\n",
        "\n",
        "<div style='text-align: center'>\n",
        "    <img style='width:140px;margin: 20px auto;' src='https://github.com/YaleDHLab/lab-workshops/raw/master/apis/assets/crossword-puzzle.png'>\n",
        "</div>\n",
        "\n",
        "To solve for <i>2 Down</i>, we need a four-letter word that begins with S and ends with D. How can we use the DataMuse API to get a list of words that meet our criteria?\n",
        "\n",
        "Since the structure for URL queries varies somewhat depending on the API, we recommend starting out by reading the documentation for the API you're using. To see what URL patterns you can use to query the DataMuse database, take a look at: [the DataMuse API documentation](https://www.datamuse.com/api/):\n",
        "\n",
        "<table class='text'>\n",
        "  <thead>\n",
        "    <tr>\n",
        "      <th style='text-align: left' style='text-align: left'>In order to find...</th>\n",
        "      <th style='text-align: left'>Use <a href='https://api.datamuse.com'>https://api.datamuse.com</a> + ...</th>\n",
        "    </tr>\n",
        "  </thead>\n",
        "  <tbody>\n",
        "    <tr>\n",
        "      <td style='text-align: left'>words that start with <i>t</i>, end in <i>k</i>, and have two letters in between</td>\n",
        "      <td style='text-align: left'><a href=\"https://api.datamuse.com/words?sp=t??k\" class=\"apilink\">/words?sp=t??k</a></td>\n",
        "    </tr>\n",
        "    <tr>\n",
        "      <td style='text-align: left'>words that rhyme with <i>forgetful</i></td>\n",
        "      <td style='text-align: left'><a href=\"https://api.datamuse.com/words?rel_rhy=forgetful\" class=\"apilink\">/words?rel_rhy=forgetful</a></td>\n",
        "    </tr>\n",
        "    <tr>\n",
        "      <td style='text-align: left'>words that end with the letter <i>a</i> that are related to <i>spoon</i></td>\n",
        "      <td style='text-align: left'><a href=\"https://api.datamuse.com/words?ml=spoon&amp;sp=*a&amp;max=10\" class=\"apilink\">/words?sp=*a&amp;ml=spoon</a></td>\n",
        "    </tr>\n",
        "  </tbody>\n",
        "</table>\n",
        "\n",
        "Let's spend a minute analyzing these URLs. As we can see, all of the queries we can perform begin with \"https://api.datamuse.com\". We are then instructed to add \"/words?\" followed by a pattern specific to the kind of data we wish to obtain:\n",
        "\n",
        "- For four letter words that begin with <i>t</i> and end with <i>k</i>, use https://api.datamuse.com/words?sp=t??k  \n",
        "- For words that rhyme with <i>forgetful</i>, use https://api.datamuse.com/words?rel_rhy=forgetful\n",
        "- To find adjectives related to <i>crossword</i>, use https://api.datamuse.com/words?rel_jjb=crossword\n",
        "\n",
        "Now that we're seen a few examples of how to write URL queries for the DataMuse API, try to solve our crossword challenge. Add a new box cell (by clicking on the \"+ Code\" button in the upper left corner) and in it, write a URL that would return 4-letter words that begin with S and end with D."
      ]
    },
    {
      "cell_type": "code",
      "metadata": {
        "id": "WL11rlbTsZsT"
      },
      "source": [
        "# type your code here"
      ],
      "execution_count": null,
      "outputs": []
    },
    {
      "cell_type": "markdown",
      "metadata": {
        "id": "fjlKdtGMFhMq"
      },
      "source": [
        "<details style='margin: 10px 25px'>\n",
        "  <summary>Solution</summary>\n",
        "  <a href='https://api.datamuse.com/words?sp=s??d' target='_blank'>https://api.datamuse.com/words?sp=s??d</a>\n",
        "</details>"
      ]
    },
    {
      "cell_type": "markdown",
      "metadata": {
        "id": "NgGI_kBGFhMr"
      },
      "source": [
        "### Examining API Data\n",
        "\n",
        "Now let's examine the data the API returns. If you visit <a href='https://api.datamuse.com/words?sp=s??d' target='_blank'>https://api.datamuse.com/words?sp=s??d</a> in a web browser, you will see something similar to the following:\n",
        "\n",
        "<a href='https://api.datamuse.com/words?sp=s??d' target='_blank'>\n",
        "    <img src='https://github.com/YaleDHLab/lab-workshops/raw/master/apis/assets/s--d.png'>\n",
        "</a>\n",
        "\n",
        "This output is an example of JSON, a popular data format often used by APIs. To make that JSON data easier to analyze, let's paste it into a \"JSON prettifier\", such as <a href='https://www.jsonformatter.io/' target='_blank'>https://www.jsonformatter.io/</a>. If you do so, you should see something similar to the following:\n",
        "  \n",
        "<a href='https://www.jsonformatter.io/' target='_blank' style='margin:10px 0; display: block'>\n",
        "    <img src='https://github.com/YaleDHLab/lab-workshops/raw/master/apis/assets/pretty-json.png'>\n",
        "</a>\n",
        "\n",
        "The data on the right is identical to the data on the left, except the data on the right is formatted (or \"prettified\") to be a little easier to read. Looking at that right-hand column, we see a few types of data that we will need to understand in order to be able to work more with this API.\n",
        "\n",
        "##### Square Braces = List\n",
        "\n",
        "First, we can see that the JSON data begins (and eventually ends) with <b>square braces</b>: [ ]. In JSON, square braces denote a <b>list</b>. In the case of the DataMuse API, each item in the list contains information about a word that meets the constraints specified in the URL we requested.\n",
        "\n",
        "##### Squiggly Braces = Dictionary\n",
        "\n",
        "Next, we can see that each of the words in our list is wrapped with <b>squiggly braces</b>: { }. In JSON, squiggly brace denote a <b>dictionary</b> (which are also sometimes referred to as an \"object\"). Dictionaries are in turn comprised of two kinds of things: <b>keys</b> (located to the left of a colon) and <b>values</b> (to the right of a colon):\n",
        "\n",
        "<img src='https://github.com/YaleDHLab/lab-workshops/raw/master/apis/assets/key-value.png' style='height:80px'>\n",
        "\n",
        "The dictionary above contains two key:value pairs. The first has the key \"word\" and the value \"shed\". The second has the key \"score\" and the value 3010. We say that each of these values is \"assigned\" to the key it belongs to. So the value assigned to \"word\" is \"shed\", and the value assigned to \"score\" is 3010.\n",
        "\n",
        "##### Quotation Marks = String\n",
        "\n",
        "Examining the keys and the value \"shed\" above, we see that each is wrapped with <b>quotation marks</b>: \" \". In JSON, quotation marks denote a <b>string</b> (a fancy word for \"text data\"). When viewing our JSON data using https://www.jsonformatter.io/, we can see that strings that are values inside a dictionary are colored red, but other text editors may not color code strings at all.\n",
        "\n",
        "##### Whole Numbers = Integers\n",
        "\n",
        "Finally, whole numbers such as the number 3010 (colored teal above) are called <b>integers</b>. Integers should not be confused with numbers that contain decimals, which are instead called <b>floats</b>.\n",
        "\n",
        "---\n",
        "\n",
        "### Reviewing JSON Data\n",
        "\n",
        "To review what we've learned about JSON so far, see if you can answer the following questions.\n",
        "\n",
        "1. Consider the crossword puzzle we examined earlier. What URL would you use if you wanted to find words that could fit in <i>4 Down</i> below?\n",
        "\n",
        "<div style='text-align: center'>\n",
        "    <img style='width:140px;margin: 20px auto;' src='https://github.com/YaleDHLab/lab-workshops/raw/master/apis/assets/crossword-puzzle.png'>\n",
        "</div>\n",
        "\n",
        "<details style='margin: 10px 25px'>\n",
        "  <summary>Solution</summary>\n",
        "  <a href='https://api.datamuse.com/words?sp=?o?' target='_blank'>https://api.datamuse.com/words?sp=?o?</a>\n",
        "</details>\n",
        "\n",
        "2. Consider the dictionary below. How many key:value pairs are there in this dictionary? What are they?\n",
        "\n",
        "```\n",
        "{\n",
        "    \"word\": \"send\",\n",
        "    \"score\": 1718\n",
        "}\n",
        "```\n",
        "\n",
        "<details style='margin: 10px 25px'>\n",
        "  <summary>Solution</summary>\n",
        "  There are 2 key:value pairs. The first has the key \"word\" and the value \"send\". The second has the key \"score\" and the value 1718.\n",
        "</details>\n",
        "\n",
        "3. What are the data types of the elements in the following dictionary:\n",
        "\n",
        "```\n",
        "{\n",
        "    \"name\": \"Allen Ginsberg\",\n",
        "    \"age\": 28\n",
        "    \"zip-code\": \"06510\"\n",
        "}\n",
        "```\n",
        "\n",
        "<details style='margin: 10px 25px'>\n",
        "  <summary>Solution</summary>\n",
        "  The keys in this dictionary are all strings. The values assigned to the \"name\" and \"zip-code\" keys are also a strings (note that \"06510\" is in quotation marks), while the value assigned to the \"age\" key is an integer.\n",
        "</details>\n",
        "\n",
        "### Fetching JSON Data with Python\n",
        "\n",
        "Now that we've explored JSON data by manually requesting data from an API, let's automate that process with Python. To do so, we can use the `requests` library:"
      ]
    },
    {
      "cell_type": "code",
      "metadata": {
        "id": "7YoxmBvuFhMr"
      },
      "source": [
        "import requests\n",
        "\n",
        "url = 'https://api.datamuse.com/words?sp=t??k'\n",
        "\n",
        "# get the content at the requested url\n",
        "response = requests.get(url)\n",
        "\n",
        "# get the JSON data in the response object\n",
        "data = response.json()"
      ],
      "execution_count": null,
      "outputs": []
    },
    {
      "cell_type": "markdown",
      "metadata": {
        "id": "r6fkcOw0FhMx"
      },
      "source": [
        "As we can see, the data we get using the `requests` library is identical to the data we got when requesting the same URL through our web browser. Let's practice parsing the JSON data from DataMuse with Python.\n",
        "\n",
        "You may know that we can \"iterate through\" (or examine one-by-one) the dictionaries in the list above using a <b>for loop</b>:"
      ]
    },
    {
      "cell_type": "code",
      "metadata": {
        "id": "9LYs2AZgFhMy"
      },
      "source": [
        "for data_piece in data:\n",
        "  print(data_piece)"
      ],
      "execution_count": null,
      "outputs": []
    },
    {
      "cell_type": "markdown",
      "metadata": {
        "id": "O0WGp8ZmFhM1"
      },
      "source": [
        "This for loop lets us examine each item in `data` one by one. In the first pass through the for loop above, the value of `i` is the first dictionary in `data`:"
      ]
    },
    {
      "cell_type": "code",
      "metadata": {
        "id": "wGUx3bDJFhM2"
      },
      "source": [
        "i = {'score': 3314, 'word': 'talk'}"
      ],
      "execution_count": null,
      "outputs": []
    },
    {
      "cell_type": "markdown",
      "metadata": {
        "id": "C4IOx1wbFhM4"
      },
      "source": [
        "To return the value assigned to a key, we can use the following syntax: `print(dictionary_name[key_name])`. For example, to access the value assigned to the 'word' key in dictionary i, we could type:"
      ]
    },
    {
      "cell_type": "code",
      "metadata": {
        "id": "v3H5p89eFhM5"
      },
      "source": [
        "print(i['score'])"
      ],
      "execution_count": null,
      "outputs": []
    },
    {
      "cell_type": "markdown",
      "metadata": {
        "id": "adw6P5OEFhM7"
      },
      "source": [
        "### Reviewing JSON Parsing\n",
        "\n",
        "1. Using the skills discussed above, see if you can print the `name` addresses of each item in the following list:"
      ]
    },
    {
      "cell_type": "code",
      "metadata": {
        "id": "143MtMGNFhM8"
      },
      "source": [
        "data = [\n",
        "  {\n",
        "    \"name\": \"id labore ex et quam laborum\",\n",
        "    \"email\": \"Eliseo@gardner.biz\"\n",
        "  },\n",
        "  {\n",
        "    \"name\": \"quo vero reiciendis velit similique earum\",\n",
        "    \"email\": \"Jayne_Kuhic@sydney.com\"\n",
        "  },\n",
        "  {\n",
        "    \"name\": \"odio adipisci rerum aut animi\",\n",
        "    \"email\": \"Nikita@garfield.biz\"\n",
        "  },\n",
        "  {\n",
        "    \"name\": \"alias odio sit\",\n",
        "    \"email\": \"Lew@alysha.tv\"\n",
        "  }\n",
        "]"
      ],
      "execution_count": null,
      "outputs": []
    },
    {
      "cell_type": "code",
      "metadata": {
        "id": "vrd8oe02FhM-"
      },
      "source": [
        "# type your answer here\n"
      ],
      "execution_count": null,
      "outputs": []
    },
    {
      "cell_type": "markdown",
      "metadata": {
        "id": "PC13g42pFhNB"
      },
      "source": [
        "<details style='margin: 10px 25px'>\n",
        "  <summary>Solution</summary>\n",
        "  <code style='display: block'>\n",
        "  for i in data:\n",
        "    print(i['name'])\n",
        "  </code>\n",
        "</details>"
      ]
    },
    {
      "cell_type": "markdown",
      "metadata": {
        "id": "bvZsPn4MFhNC"
      },
      "source": [
        "2. Next, see if you can print the `title` of each item in the following list:"
      ]
    },
    {
      "cell_type": "code",
      "metadata": {
        "id": "721_FUK8FhNC"
      },
      "source": [
        "items = [\n",
        "  {\n",
        "    \"id\": 1,\n",
        "    \"title\": \"quidem molestiae enim\"\n",
        "  },\n",
        "  {\n",
        "    \"id\": 2,\n",
        "    \"title\": \"sunt qui excepturi placeat culpa\"\n",
        "  },\n",
        "  {\n",
        "    \"id\": 3,\n",
        "    \"title\": \"omnis laborum odio\"\n",
        "  },\n",
        "  {\n",
        "    \"id\": 4,\n",
        "    \"title\": \"non esse culpa molestiae omnis sed optio\"\n",
        "  },\n",
        "  {\n",
        "    \"id\": 5,\n",
        "    \"title\": \"eaque aut omnis a\"\n",
        "  }\n",
        "]"
      ],
      "execution_count": null,
      "outputs": []
    },
    {
      "cell_type": "code",
      "metadata": {
        "id": "Kiqw9dkGFhNE"
      },
      "source": [
        "# type your answer here\n"
      ],
      "execution_count": null,
      "outputs": []
    },
    {
      "cell_type": "markdown",
      "metadata": {
        "id": "wkzphqXxFhNG"
      },
      "source": [
        "<details style='margin: 10px 25px'>\n",
        "  <summary>Solution</summary>\n",
        "  <code style='display: block'>\n",
        "  for i in items:\n",
        "    print(i['title'])\n",
        "  </code>\n",
        "</details>"
      ]
    },
    {
      "cell_type": "markdown",
      "metadata": {
        "id": "8dyDmUMYFhNG"
      },
      "source": [
        "3. Bonus Round! See if you can print each company name in the list below. Here's a hint--you will need to access the value assigned to the `company` key, then you'll need to access the value assigned to the `name` key..."
      ]
    },
    {
      "cell_type": "code",
      "metadata": {
        "id": "fZ1c8v5kFhNH"
      },
      "source": [
        "data = [\n",
        "  {\n",
        "    \"name\": \"Leanne Graham\",\n",
        "    \"company\": {\n",
        "      \"name\": \"Google\",\n",
        "      \"catchPhrase\": \"Multi-layered client-server neural-net\",\n",
        "    }\n",
        "  },\n",
        "  {\n",
        "    \"name\": \"Ervin Howell\",\n",
        "    \"company\": {\n",
        "      \"name\": \"Twitter\",\n",
        "      \"catchPhrase\": \"Proactive didactic contingency\",\n",
        "    }\n",
        "  },\n",
        "  {\n",
        "    \"name\": \"Clementine Bauch\",\n",
        "    \"company\": {\n",
        "      \"name\": \"Facebook\",\n",
        "      \"catchPhrase\": \"Face to face bifurcated interface\",\n",
        "    }\n",
        "  }\n",
        "]"
      ],
      "execution_count": null,
      "outputs": []
    },
    {
      "cell_type": "code",
      "metadata": {
        "id": "iCV7x_DrFhNJ"
      },
      "source": [
        "# type your answer here\n"
      ],
      "execution_count": null,
      "outputs": []
    },
    {
      "cell_type": "markdown",
      "metadata": {
        "id": "xXPOrzitFhNL"
      },
      "source": [
        "<details style='margin: 10px 25px'>\n",
        "  <summary>Solution</summary>\n",
        "  <code style='display: block'>\n",
        "  for i in items:\n",
        "    print(i['company']['name'])\n",
        "  </code>\n",
        "</details>"
      ]
    },
    {
      "cell_type": "markdown",
      "metadata": {
        "id": "Fzdd08qNFhNL"
      },
      "source": [
        "### Handling Missing Data\n",
        "\n",
        "Oftentimes when we use an API, the data that is sent back to us is inconsistent. For example, we might find that some records are missing a key:value pair that other records contain, as in the following example:"
      ]
    },
    {
      "cell_type": "code",
      "metadata": {
        "id": "mS0ShbHWFhNM"
      },
      "source": [
        "data = [\n",
        "  {\n",
        "    \"name\": \"Thomas Boyle\", \n",
        "    \"profession\": \"chemist\"\n",
        "  },\n",
        "  {\n",
        "    \"name\": \"Margaret Cavendish\", \n",
        "    \"profession\": \"novelist\"\n",
        "  },\n",
        "  {\n",
        "    \"name\": \"Athanasius Kirchir\"\n",
        "  }\n",
        "]"
      ],
      "execution_count": null,
      "outputs": []
    },
    {
      "cell_type": "markdown",
      "metadata": {
        "id": "8M231F0sFhNP"
      },
      "source": [
        "If one attempts to access the value assigned to each \"profession\" key in the list above, Python will throw a KeyError error:"
      ]
    },
    {
      "cell_type": "code",
      "metadata": {
        "id": "GEssWXkvFhNP"
      },
      "source": [
        "# this code will return an error\n",
        "for i in data:\n",
        "  print(i['profession'])"
      ],
      "execution_count": null,
      "outputs": []
    },
    {
      "cell_type": "markdown",
      "metadata": {
        "id": "9OuPL6kYFhNR"
      },
      "source": [
        "The most general way to solve this problem in Python is to use `try` and `except` syntax. These two commands work together to say: \"attempt to run the code inside the `try` block, and if that attempt fails, run the code inside the `except` block\". Let's see an example of this below:"
      ]
    },
    {
      "cell_type": "code",
      "metadata": {
        "id": "mTCLBVv0FhNS"
      },
      "source": [
        "for i in data:\n",
        "  \n",
        "  # try to run the following lines on each item in data\n",
        "  try:\n",
        "    \n",
        "    # display the profession of the current item in data\n",
        "    print(i['profession'])\n",
        "    \n",
        "  # if any of those lines throw an error, run the following for the given line\n",
        "  except:\n",
        "    \n",
        "    # if the current item in data could not be processed, go to the next item in the list of data\n",
        "    continue"
      ],
      "execution_count": null,
      "outputs": []
    },
    {
      "cell_type": "markdown",
      "metadata": {
        "id": "moRGjOhDFhNU"
      },
      "source": [
        "The `try` and `except` syntax above will allow you to handle any error that occurs in Python gracefully. In the case of dictionaries, however, we can use the `.get` method to handle `KeyError` events:"
      ]
    },
    {
      "cell_type": "code",
      "metadata": {
        "id": "1KATvMkwFhNV"
      },
      "source": [
        "data = {\"name\": \"Athanasius Kirchir\"}\n",
        "\n",
        "# try to get the value assigned to the \"profession\" key\n",
        "# if that key doesn't exist, return \"undefined\"\n",
        "value = data.get(\"profession\", \"undefined\")\n",
        "\n",
        "print(value)"
      ],
      "execution_count": null,
      "outputs": []
    },
    {
      "cell_type": "markdown",
      "metadata": {
        "id": "EFLholShFhNX"
      },
      "source": [
        "### Reviewing Missing Data\n",
        "\n",
        "See if you can update the code below to return \"Unknown\" if there is no specified author key:"
      ]
    },
    {
      "cell_type": "code",
      "metadata": {
        "id": "87Ul0PebFhNX"
      },
      "source": [
        "data = [\n",
        "  {\n",
        "    \"author\": \"Sir Arthur Ignatius Conan Doyle\", \n",
        "    \"title\": \"The Mystery of Cloomber\"\n",
        "  },\n",
        "  {\n",
        "    \"author\": \"Dame Agatha Christie\", \n",
        "    \"title\": \"The Mousetrap\"\n",
        "  },\n",
        "  {\n",
        "    \"title\": \"Frankenstein\"\n",
        "  }\n",
        "]\n",
        "\n",
        "for i in data:\n",
        "  print(i['author'])"
      ],
      "execution_count": null,
      "outputs": []
    },
    {
      "cell_type": "code",
      "metadata": {
        "id": "1Uhtl8a0FhNZ"
      },
      "source": [
        "# type your answer here\n"
      ],
      "execution_count": null,
      "outputs": []
    },
    {
      "cell_type": "markdown",
      "metadata": {
        "id": "0qS9Kt5uFhNb"
      },
      "source": [
        "<details style='margin: 10px 25px'>\n",
        "  <summary>Solution</summary>\n",
        "  <code style='display: block'>\n",
        "  for i in data:\n",
        "    print(i.get('author', 'Unknown'))\n",
        "  </code>\n",
        "</details>"
      ]
    },
    {
      "cell_type": "markdown",
      "metadata": {
        "id": "iz-SET4sFhNc"
      },
      "source": [
        "## Fetching Bulk Data from the Chronicling America API\n",
        "\n",
        "Now that we've covered some of the basics of APIs and JSON parsing in Python, let's move on to the Chronicling America API, which has more interesting data in a more challenging format.\n",
        "\n",
        "To get started with the Chronicling America API, let's take a look at the [API documentation](https://chroniclingamerica.loc.gov/about/api/#search). There we see that we can place a basic query for full-text data that includes the word \"horse\" with the following URL: \n",
        "\n",
        "<a target='_blank' href='https://chroniclingamerica.loc.gov/search/pages/results/?andtext=horse&format=json' style='text-align: center; margin: 10px auto; display: block'>https://chroniclingamerica.loc.gov/search/pages/results/?andtext=horse&format=json\n",
        "</a>\n",
        "\n",
        "The JSON data sent back is more complex than the JSON we've seen so far:"
      ]
    },
    {
      "cell_type": "code",
      "metadata": {
        "id": "07xJ-I55FhNc"
      },
      "source": [
        "{\n",
        "  \"totalItems\": 6253723,\n",
        "  \"endIndex\": 20,\n",
        "  \"startIndex\": 1,\n",
        "  \"itemsPerPage\": 20,\n",
        "  \"items\": [\n",
        "    {\n",
        "      \"sequence\": 10,\n",
        "      \"county\": [\n",
        "        \"Cook County\"\n",
        "      ],\n",
        "      \"edition\": None,\n",
        "      \"frequency\": \"Daily (except Sunday and holidays)\",\n",
        "      \"id\": \"/lccn/sn83045487/1913-04-07/ed-1/seq-10/\",\n",
        "      \"subject\": [\n",
        "        \"Chicago (Ill.)--Newspapers.\",\n",
        "        \"Illinois--Chicago.--fast--(OCoLC)fst01204048\"\n",
        "      ],\n",
        "      \"city\": [\n",
        "        \"Chicago\"\n",
        "      ],\n",
        "      \"date\": \"19130407\",\n",
        "      \"title\": \"The day book. [volume]\",\n",
        "      \"end_year\": 1917,\n",
        "      \"note\": [\n",
        "        \"\\\"An adless daily newspaper.\\\"\",\n",
        "        \"Archived issues are available in digital format as part of the Library of Congress Chronicling America online collection.\",\n",
        "        \"Available on microfilm;\",\n",
        "        \"Description based on: Nov. 1, 1911.\",\n",
        "        \"Issue for <Nov. 24, 1911> lacks vol., no., and chronological designation.\",\n",
        "        \"Issue for Nov. 4, 1911 erroneously designated as Oct. 4, 1911.\",\n",
        "        \"Issue for v. 3, no. 290 (Sept. 7, 1914) erroneously designated as v. 3, no. 300 (Sept. 7, 1914). The error in numbering continues.\",\n",
        "        \"Issue for v. 5, no. 214 (June 7, 1916) erroneously designated as v. 5, no. 214 (June 6, 1916).\",\n",
        "        \"Issue for v. 5, no. 7 (Oct. 5, 1915) erroneously designated as v. 5, no. 7 (Sept. 5, 1915).\",\n",
        "        \"Issues for <May 7-17, 1915> called also \\\"Moving Picture Edition.\\\"\",\n",
        "        \"Issues have no page numbering.\",\n",
        "        \"Saturdays have Noon and Final editions, Dec. 28, 1912-June 21, 1913; Saturdays have Noon and Last editions, June 28, 1913-<Dec. 13, 1913>; began issuing daily Noon and Last editions, Dec. 20, 1913-July 6, 1917.\",\n",
        "        \"Vol. 5, no. 36 (Nov. 6, 1915) issue called also \\\"Garment Workers' Special Edition.\\\"\",\n",
        "        \"Volume numbering begins with Nov. 20, 1911 issue.\"\n",
        "      ],\n",
        "      \"state\": [\n",
        "        \"Illinois\"\n",
        "      ],\n",
        "      \"section_label\": \"\",\n",
        "      \"type\": \"page\",\n",
        "      \"place_of_publication\": \"Chicago, Ill.\",\n",
        "      \"start_year\": 1911,\n",
        "      \"edition_label\": \"\",\n",
        "      \"publisher\": \"N.D. Cochran\",\n",
        "      \"language\": [\n",
        "        \"English\"\n",
        "      ],\n",
        "      \"alt_title\": [],\n",
        "      \"lccn\": \"sn83045487\",\n",
        "      \"country\": \"Illinois\",\n",
        "      \"ocr_eng\": \"MAKING A BALKY HORSE MOVE \\\" \\\"\\nWant to knftw how to start a balky\\nhorse?\\nThat sounds like\\\"\\\" a foolish ques\\ntion and it's been echoed thVough all\\nthe ages since horses came into gen\\neral -.use. Everybody who owns one\\nwould like to know how to start a\\nbalky horse. Here's a way that has\\nnever failed': Take an ordinary bam\\nboo fish pole long enough to reach\\nthe head of the horse from the car\\nriage seat. Attach a round wooden\\nbolt crossways to the end' of the rod\\n. A MEMORY TEST\\nand fasten copper rivet heads in .each\\nend of the bolt.\\nThen attach the two wires of an\\nelectric battery, pne to each rivet\\nhead and let them run along the pole\\nto the handle where they will be fas\\ntened to ordinary binding posts. Run\\nwires from your battery, under the\\nSarriage seat, to the handle of the\\npole. When the horse balks turn on\\nyour currenl. and touch the horse be\\nhind the ears with the rivet heads.\\nHe'll -move -no matter how deter--mined\\nhe has been not to do so.\\n\\\"Oh, yes, old bellow, I. still remem\\nber that $5\\\"I borrowed two years ago.\\nDid you think 4'd forgotten.it?\\\"-'\\n\\\"Not fromthe way' you?d succeed-.\\nedmrddgmgn&4e5Ince.\\\"\\nSHORT HEAVYWEIGHT\\ngootT\\ngoshM i\",\n",
        "      \"batch\": \"iune_foxtrot_ver01\",\n",
        "      \"title_normal\": \"day book.\",\n",
        "      \"url\": \"https://chroniclingamerica.loc.gov/lccn/sn83045487/1913-04-07/ed-1/seq-10.json\",\n",
        "      \"place\": [\n",
        "        \"Illinois--Cook County--Chicago\"\n",
        "      ],\n",
        "      \"page\": \"\"\n",
        "    }\n",
        "  ]\n",
        "}\n",
        "\n",
        "pass"
      ],
      "execution_count": null,
      "outputs": []
    },
    {
      "cell_type": "markdown",
      "metadata": {
        "id": "X7xk1rr0FhNe"
      },
      "source": [
        "We can see this response has five top-level keys:\n",
        "```\n",
        "  \"totalItems\": 6253723,  # indicates the total number of hits for our search\n",
        "  \"endIndex\": 20,         # indicates the number of the last search result displayed\n",
        "  \"startIndex\": 1,        # indicates the number of the first search result displayed\n",
        "  \"itemsPerPage\": 20,     # indicates the number of results displayed\n",
        "  \"items\": []             # contains the data of interest\n",
        "```\n",
        "\n",
        "Likewise, each item in the `items` list has several keys. Let's focus on three of them:\n",
        "\n",
        "```\n",
        "  \"date\"                  # the publication date of this item in YYYYMMDD format\n",
        "  \"title\"                 # the title of the publication\n",
        "  \"ocr_eng\"               # the full OCR text for this item\n",
        "```\n",
        "\n",
        "Given this structure, let's obtain a list of items from our first page of results with Python:"
      ]
    },
    {
      "cell_type": "code",
      "metadata": {
        "id": "uDPHyOlpFhNf"
      },
      "source": [
        "import requests\n",
        "\n",
        "# specify the url to query\n",
        "url = 'https://chroniclingamerica.loc.gov/search/pages/results/?format=json&andtext=horse'\n",
        "\n",
        "# retrieve text records that contain the word specified in the URL call\n",
        "response = requests.get(url)\n",
        "\n",
        "# get the json data from the response\n",
        "data = response.json()\n",
        "\n",
        "# access the list of items in the returned JSON data\n",
        "items = data['items']\n",
        "\n",
        "print(items)"
      ],
      "execution_count": null,
      "outputs": []
    },
    {
      "cell_type": "markdown",
      "metadata": {
        "id": "ShiTBK05FhNh"
      },
      "source": [
        "If you examine the URL above, you can see `?andtext=horse`. This is the syntax used by the Chronicling America API to allow users to find texts that contain a given word or phrase. Let's run the query again, but this time using a search word of personal interest to you:"
      ]
    },
    {
      "cell_type": "code",
      "metadata": {
        "id": "nqt3Z13NFhNh"
      },
      "source": [
        "# specify your search term below\n",
        "search_term = 'Connecticut'\n",
        "\n",
        "# specify the url to query\n",
        "url = 'https://chroniclingamerica.loc.gov/search/pages/results/?format=json&andtext=' + search_term\n",
        "\n",
        "# retrieve text records that contain a given word\n",
        "response = requests.get(url)\n",
        "\n",
        "# get the json data from the response\n",
        "data = response.json()\n",
        "\n",
        "# access the list of items in the returned JSON data\n",
        "items = data['items']\n",
        "\n",
        "# display the title of each item\n",
        "for i in items:\n",
        "  print(i['title'])"
      ],
      "execution_count": null,
      "outputs": []
    },
    {
      "cell_type": "markdown",
      "metadata": {
        "id": "7rvGGborFhNj"
      },
      "source": [
        "# Working with Paginated API Responses"
      ]
    },
    {
      "cell_type": "markdown",
      "metadata": {
        "id": "bEP0bS_0FhNj"
      },
      "source": [
        "Great! We've successfully fetched 20 responses from the server. However, if we run `print(data['totalItems'])`, we'll see that there are many more hits for our query:"
      ]
    },
    {
      "cell_type": "code",
      "metadata": {
        "id": "wx4WKeDtFhNk"
      },
      "source": [
        "print(data['totalItems'])"
      ],
      "execution_count": null,
      "outputs": []
    },
    {
      "cell_type": "markdown",
      "metadata": {
        "id": "yHB_x27OFhNn"
      },
      "source": [
        "To access the other hits for our query, we must request each \"page\" of results individually. A page of API results is just like a page of results displayed in a web browser--each page contains a fixed number of results. In the case of a Google search, each page contains 10 search results. In the case of the Chronicling America API, each page contains 20 results. Each API is different, but the concept of pagination is the same.\n",
        "\n",
        "To paginate through the pages of results for our query, the [Chronicling America documentation](https://chroniclingamerica.loc.gov/about/api/#search) tells us, we can add a query parameter `page=n` to our url, where `n` is the index position of the page we want to fetch. For example, we can request:\n",
        "\n",
        "```\n",
        "# url for the first page for our search term\n",
        "https://chroniclingamerica.loc.gov/search/pages/results/?format=json&andtext=horse&page=1\n",
        "\n",
        "# url for the second page for our search term\n",
        "https://chroniclingamerica.loc.gov/search/pages/results/?format=json&andtext=horse&page=2\n",
        "```"
      ]
    },
    {
      "cell_type": "markdown",
      "metadata": {
        "id": "90S88JVuFhNn"
      },
      "source": [
        "Let's paginate through responses with Python. To do so, we can make use of the `range` function, which returns a list of integers between x and y counting by z:"
      ]
    },
    {
      "cell_type": "code",
      "metadata": {
        "id": "DplNCdO7FhNn"
      },
      "source": [
        "# create a list of integers between 10 and 20 counting by 2\n",
        "list(range(10, 21, 1))"
      ],
      "execution_count": null,
      "outputs": []
    },
    {
      "cell_type": "markdown",
      "metadata": {
        "id": "jrGPU1s9FhNp"
      },
      "source": [
        "Notice that the first argument passed to `range()`&mdash;the start value&mdash;is inclusive, but the second argument&mdash;the end value&mdash;is exclusive!\n",
        "\n",
        "Let's use the range function to create a list of pages we wish to fetch:"
      ]
    },
    {
      "cell_type": "code",
      "metadata": {
        "id": "o7h6vyI6FhNp"
      },
      "source": [
        "import requests\n",
        "\n",
        "# create a list of results\n",
        "results = []\n",
        "\n",
        "# fetch each page number\n",
        "for i in range(1, 3, 1):\n",
        "\n",
        "  # specify the url to query\n",
        "  url = 'https://chroniclingamerica.loc.gov/search/pages/results/?format=json&andtext=horse&page=' + str(i)\n",
        "  \n",
        "  # fetch this page of results\n",
        "  response = requests.get(url)\n",
        "  \n",
        "  # get the json from the response\n",
        "  data = response.json()\n",
        "\n",
        "  # add this page of results to our list of results\n",
        "  results.append(data)"
      ],
      "execution_count": null,
      "outputs": []
    },
    {
      "cell_type": "code",
      "metadata": {
        "id": "D29m1qhV3Guo"
      },
      "source": [
        "len(results)"
      ],
      "execution_count": null,
      "outputs": []
    },
    {
      "cell_type": "markdown",
      "metadata": {
        "id": "Dp7v_mliFhNr"
      },
      "source": [
        "Now `results` will be a list of dictionaries we can parse to fetch multiple pages of data!"
      ]
    },
    {
      "cell_type": "markdown",
      "metadata": {
        "id": "tnBq6vmuFhNr"
      },
      "source": [
        "### Reviewing Pagination"
      ]
    },
    {
      "cell_type": "markdown",
      "metadata": {
        "id": "DHJq3HSEFhNs"
      },
      "source": [
        "Given what we covered above, see if you can fetch pages 10 through 12 (both inclusive) of results that include the word \"horses\". Beware of \"off-by-one\" problems!"
      ]
    },
    {
      "cell_type": "code",
      "metadata": {
        "id": "92F3PoY5FhNs"
      },
      "source": [
        "# type your code here\n"
      ],
      "execution_count": null,
      "outputs": []
    },
    {
      "cell_type": "markdown",
      "metadata": {
        "id": "xzxZywL8FhNu"
      },
      "source": [
        "<details style='margin: 10px 25px'>\n",
        "  <summary>Solution</summary>\n",
        "  <code style='display: block'>\n",
        "  results = []\n",
        "  \n",
        "  for i in range(100, 201, 1):\n",
        "    url = 'https://chroniclingamerica.loc.gov/search/pages/results/?format=json&andtext=horse&page=' + str(i)\n",
        "    results.append(requests.get(url).json())\n",
        "    \n",
        "  </code>\n",
        "</details>"
      ]
    },
    {
      "cell_type": "markdown",
      "metadata": {
        "id": "NYEFhg_zFhNu"
      },
      "source": [
        "# Saving API Responses"
      ]
    },
    {
      "cell_type": "markdown",
      "metadata": {
        "id": "ibDPKdz-FhNv"
      },
      "source": [
        "Finally, let's examine the pattern for saving data to disk using Python in order to process each item and save its text content to a file."
      ]
    },
    {
      "cell_type": "code",
      "metadata": {
        "id": "vkq2g9qMFhNv"
      },
      "source": [
        "# iterate over each result\n",
        "for result in results:\n",
        "  \n",
        "  # iterate over each item in this result\n",
        "  for item in result['items']:\n",
        "  \n",
        "    # store a unique filename for this item\n",
        "    filename = item['id']\n",
        "    \n",
        "    # clean the filename\n",
        "    filename = filename.strip('/')\n",
        "    filename = filename.replace('/', '-')\n",
        "    filename = filename + '.txt'\n",
        "\n",
        "    # get the ocr data from the item\n",
        "    ocr = item.get('ocr_eng', '')\n",
        "    \n",
        "    # open the output file in write mode and save the English OCR content\n",
        "    open(filename, 'w').write(ocr)"
      ],
      "execution_count": null,
      "outputs": []
    },
    {
      "cell_type": "markdown",
      "metadata": {
        "id": "-4FYCrYhFhNx"
      },
      "source": [
        "# Practicing API Queries\n",
        "\n",
        "To practice the skills you learned above, try to collect 5 pages of text data from the Chronicling America API. As you do so, see if you can find a query that returns results related to an area of intellectual interest to you. After you have retrieved those pages of data, try to save each record from each page to your system."
      ]
    },
    {
      "cell_type": "code",
      "metadata": {
        "id": "TE3IftZ16Qqo"
      },
      "source": [
        "# type your code here\n"
      ],
      "execution_count": null,
      "outputs": []
    },
    {
      "cell_type": "markdown",
      "metadata": {
        "id": "TQMgLi5stZwM"
      },
      "source": [
        "# Off-roading with APIs\n",
        "\n",
        "We've now practiced some of the basic ways of fetching and saving data from APIs. The examples and exercises above are fairly canned, however. To help you get experience with real-world use cases, we want to point you to some APIs that might be of interest to your research. \n",
        "\n",
        "[There are many, many public APIs](https://github.com/n0shake/Public-APIs) that might potentially be helpful as you seek to collect data for your projects. We will highlight a few potentially interesting APIs below. If you are feeling extra experimental, feel free to consult this larger list of APIs to select one that could be of use to your research: https://github.com/n0shake/Public-APIs\n",
        "\n",
        "### Genderize.io\n",
        "\n",
        "[Genderize.io](https://genderize.io/) predicts the gender of user-specified names. For example:\n",
        "\n",
        "```\n",
        "https://api.genderize.io?name=peter\n",
        "```\n",
        "\n",
        "Returns:\n",
        "\n",
        "```\n",
        "{\n",
        "  \"name\": \"peter\",\n",
        "  \"gender\": \"male\",\n",
        "  \"probability\": 0.99,\n",
        "  \"count\": 165452\n",
        "}\n",
        "```\n",
        "\n",
        "This indicates that the Genderize database has 165452 birth records with the name \"Peter\", all of which have been assigned the gender \"male\".\n",
        "\n",
        "### Google Books\n",
        "\n",
        "[The Google Books API](https://developers.google.com/books/docs/v1/using) serves up data on the millions of books Google digitized and used in its Google Ngrams project. One can query the API as follows:\n",
        "\n",
        "```\n",
        "https://www.googleapis.com/books/v1/volumes?q=Huckleberry+Finn&startIndex=50\n",
        "```\n",
        "\n",
        "In this example we are querying for the word \"Huckleberry\" and the word \"Finn\", and we are fetching records starting at index position 50.\n",
        "\n",
        "### Met Museum\n",
        "\n",
        "For those interested in visual culture and art history, [the Met Museum has a fantastic API](https://metmuseum.github.io/) from which one can fetch images and metadata from the museum's vast collection. Here is a sample query for \"silver\":\n",
        "\n",
        "```\n",
        "https://www.metmuseum.org/api/search?q=silver&page=1\n",
        "```\n",
        "\n",
        "The results include links to images, information on artists, the date of creation, circulation/borrowing information, and much more!\n",
        "\n",
        "### Twitter\n",
        "\n",
        "One of the most popular APIs available is the [Twitter API](https://python-twitter.readthedocs.io/en/latest/getting_started.html). As you might imagine, the Twitter API allows us to fetch data on the content users tweet, as well as the network of users who follow one another. \n",
        "\n",
        "Unlike the APIs above, Twitter does not allow us to query its API without authentication. To authenticate with the service, one can [navigate to the developer dashboard](https://developer.twitter.com/en/portal/dashboard), create a new project, then click \"Keys and Tokens\" and click \"Access token & secret\". Then one can copy and paste the provided values into the template below: \n"
      ]
    },
    {
      "cell_type": "code",
      "metadata": {
        "id": "oA-vUIpzyV14"
      },
      "source": [
        "!pip install python-twitter"
      ],
      "execution_count": null,
      "outputs": []
    },
    {
      "cell_type": "code",
      "metadata": {
        "id": "gsPl-7mXyXUM"
      },
      "source": [
        "import twitter\n",
        "\n",
        "api = twitter.Api(\n",
        "  # twitter calls this the \"api key\"\n",
        "  consumer_key='qdXceRal6CmLwcdFFFIzUgvlY',\n",
        "  \n",
        "  # twitter calls this the \"api secret key\"\n",
        "  consumer_secret='4MOso431GjAN4WC1IsjNATcgOPk8u5ZzSK3V7Pjk1XpGuAILpI',\n",
        "\n",
        "  # twitter calls this the \"access token\"\n",
        "  access_token_key='776421925-Jk4fj3498Eyq6LtEdIlHL986sknOQjWbEeJfii2Q',\n",
        "  \n",
        "  # twitter calls this the \"access token secret\"\n",
        "  access_token_secret='X9Nh9JN3IPaFV3B1YyJJ5tkWKfGpuFXRFpSB1YO1zA3n0',\n",
        "\n",
        "  # specify we want the api to pause (rather than error) when we've made too many requests\n",
        "  sleep_on_rate_limit=True)\n",
        "\n",
        "tweets = api.GetUserTimeline(screen_name='joebiden')"
      ],
      "execution_count": null,
      "outputs": []
    },
    {
      "cell_type": "code",
      "metadata": {
        "id": "uXzfWRhrybSl"
      },
      "source": [
        "# let's figure out how to examine the data in the first tweet returned\n"
      ],
      "execution_count": null,
      "outputs": []
    },
    {
      "cell_type": "markdown",
      "metadata": {
        "id": "gCPjD6gfyg7L"
      },
      "source": [
        "# Wrapping Up\n",
        "\n",
        "This concludes our whirlwind tour through APIs. If you get interested in a particular API and want to explore the details of that API more deeply, please feel free to reach out to your instructors at any time. We love data and would be happy to help you collect some data that can be useful to your research!\n"
      ]
    }
  ]
}